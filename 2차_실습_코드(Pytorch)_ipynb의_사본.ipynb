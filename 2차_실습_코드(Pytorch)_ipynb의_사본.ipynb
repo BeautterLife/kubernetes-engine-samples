{
  "nbformat": 4,
  "nbformat_minor": 0,
  "metadata": {
    "colab": {
      "name": "2차 실습 코드(Pytorch).ipynb의 사본",
      "provenance": [],
      "collapsed_sections": [],
      "include_colab_link": true
    },
    "kernelspec": {
      "name": "python3",
      "display_name": "Python 3"
    },
    "accelerator": "GPU"
  },
  "cells": [
    {
      "cell_type": "markdown",
      "metadata": {
        "id": "view-in-github",
        "colab_type": "text"
      },
      "source": [
        "<a href=\"https://colab.research.google.com/github/BeautterLife/kubernetes-engine-samples/blob/master/2%EC%B0%A8_%EC%8B%A4%EC%8A%B5_%EC%BD%94%EB%93%9C(Pytorch)_ipynb%EC%9D%98_%EC%82%AC%EB%B3%B8.ipynb\" target=\"_parent\"><img src=\"https://colab.research.google.com/assets/colab-badge.svg\" alt=\"Open In Colab\"/></a>"
      ]
    },
    {
      "cell_type": "code",
      "metadata": {
        "id": "ApMA_MsI4oHi",
        "colab_type": "code",
        "outputId": "a638f923-3ff4-4326-9308-afa249ca8742",
        "colab": {
          "base_uri": "https://localhost:8080/",
          "height": 449
        }
      },
      "source": [
        "# Data loading\n",
        "\n",
        "from sklearn.datasets import load_breast_cancer #20163107 박건희 | sklearn.datasets package에서 breast_cancer모듈 import \n",
        "\n",
        "cancer = load_breast_cancer() #20163107 | breast_cancer dataset을 load하고 return한다.\n",
        "data = cancer.data #20163107 | 학습에 필요한 data를 저장할 넘파이 리스트\n",
        "labels = cancer.target #20163107 | classification labels을 저장할 넘파이 리스트\n",
        "\n",
        "print(data) #20163107 | data list의 모든 원소 출력\n",
        "print(labels) #20163107 | labels list의 모든 원소 출력\n",
        "print(data.shape) #20163107 | data 리스트의 형상 출력"
      ],
      "execution_count": 0,
      "outputs": [
        {
          "output_type": "stream",
          "text": [
            "[[1.799e+01 1.038e+01 1.228e+02 ... 2.654e-01 4.601e-01 1.189e-01]\n",
            " [2.057e+01 1.777e+01 1.329e+02 ... 1.860e-01 2.750e-01 8.902e-02]\n",
            " [1.969e+01 2.125e+01 1.300e+02 ... 2.430e-01 3.613e-01 8.758e-02]\n",
            " ...\n",
            " [1.660e+01 2.808e+01 1.083e+02 ... 1.418e-01 2.218e-01 7.820e-02]\n",
            " [2.060e+01 2.933e+01 1.401e+02 ... 2.650e-01 4.087e-01 1.240e-01]\n",
            " [7.760e+00 2.454e+01 4.792e+01 ... 0.000e+00 2.871e-01 7.039e-02]]\n",
            "[0 0 0 0 0 0 0 0 0 0 0 0 0 0 0 0 0 0 0 1 1 1 0 0 0 0 0 0 0 0 0 0 0 0 0 0 0\n",
            " 1 0 0 0 0 0 0 0 0 1 0 1 1 1 1 1 0 0 1 0 0 1 1 1 1 0 1 0 0 1 1 1 1 0 1 0 0\n",
            " 1 0 1 0 0 1 1 1 0 0 1 0 0 0 1 1 1 0 1 1 0 0 1 1 1 0 0 1 1 1 1 0 1 1 0 1 1\n",
            " 1 1 1 1 1 1 0 0 0 1 0 0 1 1 1 0 0 1 0 1 0 0 1 0 0 1 1 0 1 1 0 1 1 1 1 0 1\n",
            " 1 1 1 1 1 1 1 1 0 1 1 1 1 0 0 1 0 1 1 0 0 1 1 0 0 1 1 1 1 0 1 1 0 0 0 1 0\n",
            " 1 0 1 1 1 0 1 1 0 0 1 0 0 0 0 1 0 0 0 1 0 1 0 1 1 0 1 0 0 0 0 1 1 0 0 1 1\n",
            " 1 0 1 1 1 1 1 0 0 1 1 0 1 1 0 0 1 0 1 1 1 1 0 1 1 1 1 1 0 1 0 0 0 0 0 0 0\n",
            " 0 0 0 0 0 0 0 1 1 1 1 1 1 0 1 0 1 1 0 1 1 0 1 0 0 1 1 1 1 1 1 1 1 1 1 1 1\n",
            " 1 0 1 1 0 1 0 1 1 1 1 1 1 1 1 1 1 1 1 1 1 0 1 1 1 0 1 0 1 1 1 1 0 0 0 1 1\n",
            " 1 1 0 1 0 1 0 1 1 1 0 1 1 1 1 1 1 1 0 0 0 1 1 1 1 1 1 1 1 1 1 1 0 0 1 0 0\n",
            " 0 1 0 0 1 1 1 1 1 0 1 1 1 1 1 0 1 1 1 0 1 1 0 0 1 1 1 1 1 1 0 1 1 1 1 1 1\n",
            " 1 0 1 1 1 1 1 0 1 1 0 1 1 1 1 1 1 1 1 1 1 1 1 0 1 0 0 1 0 1 1 1 1 1 0 1 1\n",
            " 0 1 0 1 1 0 1 0 1 1 1 1 1 1 1 1 0 0 1 1 1 1 1 1 0 1 1 1 1 1 1 1 1 1 1 0 1\n",
            " 1 1 1 1 1 1 0 1 0 1 1 0 1 1 1 1 1 0 0 1 0 1 0 1 1 1 1 1 0 1 1 0 1 0 1 0 0\n",
            " 1 1 1 0 1 1 1 1 1 1 1 1 1 1 1 0 1 0 0 1 1 1 1 1 1 1 1 1 1 1 1 1 1 1 1 1 1\n",
            " 1 1 1 1 1 1 1 0 0 0 0 0 0 1]\n",
            "(569, 30)\n"
          ],
          "name": "stdout"
        }
      ]
    },
    {
      "cell_type": "markdown",
      "metadata": {
        "id": "9O1ikHy1aH7M",
        "colab_type": "text"
      },
      "source": [
        "Data loading\n",
        "============\n",
        "sklearn.datasets package에서 breast_cancer datataset모듈이 제공하는 dataset을 이용한다.\n",
        "---------------------------------\n",
        "breast cancer dataset은 binary classification dataset. \n",
        "\n",
        "| Classes  | 2| \n",
        "| :------------ | :-----------: | \n",
        "| class    | 2          |\n",
        "| Samples per class    | 212(M), 357(B)      | \n",
        "| Samples total     | 569  |\n",
        "| Dimensionality | 30 |\n",
        "| Features | real, positive ||\n",
        "\n"
      ]
    },
    {
      "cell_type": "code",
      "metadata": {
        "id": "qi0SFzZs4zZP",
        "colab_type": "code",
        "outputId": "90730b15-7541-40a2-d7b7-12a21195f2ca",
        "colab": {
          "base_uri": "https://localhost:8080/",
          "height": 197
        }
      },
      "source": [
        "# Split data\n",
        "\n",
        "from sklearn.model_selection import train_test_split #20163107 | sklearn.model_selection 패키지에서 train_test_split 모듈 imort\n",
        "#20163107 | 학습을 위해 dataset을 랜덤하게 train, test data으로 나눠준다.\n",
        "x_train, x_test, y_train, y_test = train_test_split(data, labels, test_size=0.1) \n",
        "#20163107 | train과 test 데이터 비율을 0.9 : 0.1로 분할한다.\n",
        "print(len(x_train), len(x_test), type(x_train))\n",
        "#20163107 | x_train, x_test의 길이 출력, x_train의 타입 출력.\n",
        "print(x_test) #20163107 | x_test의 모든 원소 출력\n",
        "print(y_test) #20163107 | y_test의 모든 원소 출력"
      ],
      "execution_count": 0,
      "outputs": [
        {
          "output_type": "stream",
          "text": [
            "512 57 <class 'numpy.ndarray'>\n",
            "[[1.287e+01 1.954e+01 8.267e+01 ... 6.384e-02 3.313e-01 7.735e-02]\n",
            " [1.370e+01 1.764e+01 8.776e+01 ... 9.077e-02 2.518e-01 6.960e-02]\n",
            " [1.669e+01 2.020e+01 1.071e+02 ... 8.737e-02 4.677e-01 7.623e-02]\n",
            " ...\n",
            " [1.143e+01 1.731e+01 7.366e+01 ... 6.402e-02 2.584e-01 8.096e-02]\n",
            " [1.720e+01 2.452e+01 1.142e+02 ... 1.899e-01 3.313e-01 1.339e-01]\n",
            " [8.219e+00 2.070e+01 5.327e+01 ... 7.879e-02 3.322e-01 1.486e-01]]\n",
            "[1 1 0 1 0 0 0 1 1 1 1 1 0 0 1 1 0 1 0 1 1 1 0 1 1 1 0 0 0 0 0 1 1 1 0 1 0\n",
            " 1 0 1 1 0 1 0 1 1 1 1 1 1 0 1 0 0 1 0 1]\n"
          ],
          "name": "stdout"
        }
      ]
    },
    {
      "cell_type": "markdown",
      "metadata": {
        "id": "DawdKvMsecQC",
        "colab_type": "text"
      },
      "source": [
        ""
      ]
    },
    {
      "cell_type": "markdown",
      "metadata": {
        "id": "vnHmOC1Dr6oT",
        "colab_type": "text"
      },
      "source": [
        "* 데이터를 train, test set으로 분리하는 train_test_split 모듈을 import 한다.\n",
        "* train : test = 9 : 1 의 비율로 나눈다.\n",
        "* train_size의 비율은 (1 - 설정한 test_size).\n",
        "\n",
        "train_test_split()의 return 값\n",
        "* x_train : training feature\n",
        "* y_train : training label \n",
        "* x_test : test feature\n",
        "* y_test : test label\n"
      ]
    },
    {
      "cell_type": "code",
      "metadata": {
        "id": "qkfYVX555tVh",
        "colab_type": "code",
        "outputId": "e77a62c7-2cda-43d2-e826-5ecdd9011073",
        "colab": {
          "base_uri": "https://localhost:8080/",
          "height": 35
        }
      },
      "source": [
        "# Convert to tensor\n",
        "\n",
        "import torch #20163107 | torch 모듈 import\n",
        "import torch.nn as nn #20163107 | \n",
        "import torch.nn.functional as F\n",
        "from torch.utils.data import DataLoader, TensorDataset\n",
        "from torch.autograd import Variable\n",
        "\n",
        "#20163107 | 넘파이 배열을 tensor로 변환하는 코드\n",
        "x_train = Variable(torch.from_numpy(x_train).float())\n",
        "y_train = Variable(torch.from_numpy(y_train).float())\n",
        "\n",
        "x_test = Variable(torch.from_numpy(x_test).float())\n",
        "y_test = Variable(torch.from_numpy(y_test).float())\n",
        "\n",
        "print(type(x_train))"
      ],
      "execution_count": 0,
      "outputs": [
        {
          "output_type": "stream",
          "text": [
            "<class 'torch.Tensor'>\n"
          ],
          "name": "stdout"
        }
      ]
    },
    {
      "cell_type": "markdown",
      "metadata": {
        "id": "Ug8bRRwQvEay",
        "colab_type": "text"
      },
      "source": [
        "* torch.nn : \n",
        "* torch.nn.functional : 신경망 네트워크 구축에 필요한 계층 제공. ex) *Convolution, Pooling, Non-linear activation, Normalization, Linear, Sparse, Distance, Loss Functions.*\n",
        "\n",
        "* torch.autograd : tensor 연산에 자동 미분 제공 패키지.\n",
        "* autograd.Variable : Tensor를 감싸며 Tensor에 정의된 거의 모든 연산 지원.\n"
      ]
    },
    {
      "cell_type": "markdown",
      "metadata": {
        "id": "CYu_8IY_vCVq",
        "colab_type": "text"
      },
      "source": [
        ""
      ]
    },
    {
      "cell_type": "markdown",
      "metadata": {
        "id": "hzCqfY5ruH1N",
        "colab_type": "text"
      },
      "source": [
        ""
      ]
    },
    {
      "cell_type": "code",
      "metadata": {
        "id": "JILCuCqf6USv",
        "colab_type": "code",
        "colab": {}
      },
      "source": [
        "# Generating dataset\n",
        "\n",
        "#20163107 | feature와 label을 묶어줌.\n",
        "train_set = TensorDataset(x_train, y_train)\n",
        "test_set = TensorDataset(x_test, y_test)\n",
        "\n",
        "#20163107 | 데이터 순서를 섞어서 8개씩 데이터를 반환하는 DataLoder\n",
        "train_loader = DataLoader(train_set, batch_size = 8, shuffle=True)"
      ],
      "execution_count": 0,
      "outputs": []
    },
    {
      "cell_type": "markdown",
      "metadata": {
        "id": "utC_DgVWz3HG",
        "colab_type": "text"
      },
      "source": [
        "`TensorDataset( )`: 학습 데이터와 레이블을 묶어준다.\n",
        "\n",
        "`DataLoader( )`: iterable한 dataset을 제공. batch_size와 shuffle 설정 제공.\n",
        "   "
      ]
    },
    {
      "cell_type": "markdown",
      "metadata": {
        "id": "R13TlkArFqzi",
        "colab_type": "text"
      },
      "source": [
        ""
      ]
    },
    {
      "cell_type": "code",
      "metadata": {
        "id": "umKKUzh16esj",
        "colab_type": "code",
        "outputId": "57f7fafe-2869-4392-c739-dbd39f105a7d",
        "colab": {
          "base_uri": "https://localhost:8080/",
          "height": 161
        }
      },
      "source": [
        "# Construct model\n",
        "#20163107 | 네트워크 모델을 설계하는 class\n",
        "class Model(nn.Module):\n",
        "  def __init__(self):\n",
        "    super().__init__()\n",
        "    \n",
        "    self.layer1 = nn.Linear(30, 128)\n",
        "    self.layer2 = nn.Linear(128, 64)\n",
        "    self.layer3 = nn.Linear(64, 32)\n",
        "    self.layer4 = nn.Linear(32, 16)\n",
        "    self.layer5 = nn.Linear(16, 1)\n",
        "    self.act = nn.ReLU()\n",
        "\n",
        "  def forward(self,x):\n",
        "    x = self.act(self.layer1(x))\n",
        "    x = self.act(self.layer2(x))\n",
        "    x = self.act(self.layer3(x))\n",
        "    x = self.act(self.layer4(x))\n",
        "    x = self.layer5(x)\n",
        "    x = torch.sigmoid(x)\n",
        "    \n",
        "    return x\n",
        "\n",
        "model = Model()\n",
        "print(model)\n"
      ],
      "execution_count": 0,
      "outputs": [
        {
          "output_type": "stream",
          "text": [
            "Model(\n",
            "  (layer1): Linear(in_features=30, out_features=128, bias=True)\n",
            "  (layer2): Linear(in_features=128, out_features=64, bias=True)\n",
            "  (layer3): Linear(in_features=64, out_features=32, bias=True)\n",
            "  (layer4): Linear(in_features=32, out_features=16, bias=True)\n",
            "  (layer5): Linear(in_features=16, out_features=1, bias=True)\n",
            "  (act): ReLU()\n",
            ")\n"
          ],
          "name": "stdout"
        }
      ]
    },
    {
      "cell_type": "markdown",
      "metadata": {
        "id": "V66Ho0Lf2LHn",
        "colab_type": "text"
      },
      "source": [
        ""
      ]
    },
    {
      "cell_type": "markdown",
      "metadata": {
        "id": "enXyK_zO12SG",
        "colab_type": "text"
      },
      "source": [
        ""
      ]
    },
    {
      "cell_type": "code",
      "metadata": {
        "id": "fO2QwNMl6gVt",
        "colab_type": "code",
        "colab": {}
      },
      "source": [
        "# Configure optimizer\n",
        "optimizer = torch.optim.SGD(model.parameters(), lr=0.001)"
      ],
      "execution_count": 0,
      "outputs": []
    },
    {
      "cell_type": "code",
      "metadata": {
        "id": "TMF-ZKi6DFaH",
        "colab_type": "code",
        "outputId": "28f9d6ff-2de7-4fa7-b9e0-4e2ac54c25bb",
        "colab": {
          "base_uri": "https://localhost:8080/",
          "height": 1000
        }
      },
      "source": [
        "# Training\n",
        "\n",
        "epochs = 200\n",
        "losses = list()\n",
        "losses2 = list()\n",
        "accuracies = list()\n",
        "accuracies2 = list()\n",
        "\n",
        "for epoch in range(epochs):\n",
        "  epoch_loss = 0  \n",
        "  epoch_loss2 = 0  \n",
        "  epoch_accuracy = 0\n",
        "  epoch_accuracy2 = 0\n",
        "\n",
        "  for x, y in train_loader:\n",
        "  \n",
        "    optimizer.zero_grad()\n",
        "\n",
        "    output = model(x)\n",
        "\n",
        "    loss = F.binary_cross_entropy(output, y)\n",
        "    loss.backward()\n",
        "    \n",
        "    optimizer.step()\n",
        "    \n",
        "    output[output>=0.5] = 1\n",
        "    output[output<0.5] = 0\n",
        "    accuracy = sum(sum(y.data.numpy() == output.data.T.numpy()))\n",
        "\n",
        "    epoch_loss += loss.item()\n",
        "    epoch_accuracy += accuracy\n",
        "  \n",
        "\n",
        "  epoch_loss /= len(train_loader)\n",
        "  epoch_accuracy /= len(x_train)\n",
        "  print(str(epoch+1).zfill(3), \"loss :\", round(epoch_loss,4),\"accuracy :\", round(epoch_accuracy,4))\n",
        "  \n",
        "  losses.append(epoch_loss)\n",
        "  losses2.append(epoch_loss)\n",
        "  accuracies.append(epoch_accuracy)\n",
        "  accuracies2.append(epoch_accuracy)\n",
        "\n",
        "  "
      ],
      "execution_count": 0,
      "outputs": [
        {
          "output_type": "stream",
          "text": [
            "/usr/local/lib/python3.6/dist-packages/ipykernel_launcher.py:17: UserWarning: Using a target size (torch.Size([8])) that is different to the input size (torch.Size([8, 1])) is deprecated. Please ensure they have the same size.\n"
          ],
          "name": "stderr"
        },
        {
          "output_type": "stream",
          "text": [
            "001 loss : 0.2076 accuracy : 0.9219\n",
            "002 loss : 0.2077 accuracy : 0.9141\n",
            "003 loss : 0.2012 accuracy : 0.9258\n",
            "004 loss : 0.2001 accuracy : 0.9141\n",
            "005 loss : 0.1893 accuracy : 0.9238\n",
            "006 loss : 0.1963 accuracy : 0.9141\n",
            "007 loss : 0.2004 accuracy : 0.918\n",
            "008 loss : 0.2073 accuracy : 0.9102\n",
            "009 loss : 0.2044 accuracy : 0.9219\n",
            "010 loss : 0.1931 accuracy : 0.9238\n",
            "011 loss : 0.196 accuracy : 0.9199\n",
            "012 loss : 0.1945 accuracy : 0.9219\n",
            "013 loss : 0.1894 accuracy : 0.9316\n",
            "014 loss : 0.2037 accuracy : 0.916\n",
            "015 loss : 0.1954 accuracy : 0.9219\n",
            "016 loss : 0.1946 accuracy : 0.9238\n",
            "017 loss : 0.1862 accuracy : 0.9277\n",
            "018 loss : 0.1934 accuracy : 0.9199\n",
            "019 loss : 0.1912 accuracy : 0.9199\n",
            "020 loss : 0.2014 accuracy : 0.9199\n",
            "021 loss : 0.2011 accuracy : 0.9199\n",
            "022 loss : 0.2009 accuracy : 0.9219\n",
            "023 loss : 0.1998 accuracy : 0.9199\n",
            "024 loss : 0.1893 accuracy : 0.9238\n",
            "025 loss : 0.1986 accuracy : 0.9141\n",
            "026 loss : 0.1864 accuracy : 0.9316\n",
            "027 loss : 0.195 accuracy : 0.9199\n",
            "028 loss : 0.2013 accuracy : 0.9219\n",
            "029 loss : 0.1941 accuracy : 0.9297\n",
            "030 loss : 0.1905 accuracy : 0.9277\n",
            "031 loss : 0.191 accuracy : 0.9316\n",
            "032 loss : 0.1908 accuracy : 0.9258\n",
            "033 loss : 0.1976 accuracy : 0.9219\n",
            "034 loss : 0.1971 accuracy : 0.9219\n",
            "035 loss : 0.193 accuracy : 0.9297\n",
            "036 loss : 0.189 accuracy : 0.9238\n",
            "037 loss : 0.1994 accuracy : 0.9219\n",
            "038 loss : 0.1914 accuracy : 0.9258\n",
            "039 loss : 0.2001 accuracy : 0.9238\n",
            "040 loss : 0.1987 accuracy : 0.9238\n",
            "041 loss : 0.1871 accuracy : 0.9199\n",
            "042 loss : 0.1925 accuracy : 0.9277\n",
            "043 loss : 0.1995 accuracy : 0.9199\n",
            "044 loss : 0.1874 accuracy : 0.9297\n",
            "045 loss : 0.1947 accuracy : 0.9258\n",
            "046 loss : 0.2061 accuracy : 0.918\n",
            "047 loss : 0.193 accuracy : 0.916\n",
            "048 loss : 0.2044 accuracy : 0.9141\n",
            "049 loss : 0.1966 accuracy : 0.9121\n",
            "050 loss : 0.1985 accuracy : 0.9219\n",
            "051 loss : 0.1903 accuracy : 0.9277\n",
            "052 loss : 0.2006 accuracy : 0.918\n",
            "053 loss : 0.1999 accuracy : 0.9199\n",
            "054 loss : 0.1919 accuracy : 0.9258\n",
            "055 loss : 0.1849 accuracy : 0.9297\n",
            "056 loss : 0.1939 accuracy : 0.9316\n",
            "057 loss : 0.19 accuracy : 0.9258\n",
            "058 loss : 0.1945 accuracy : 0.9219\n",
            "059 loss : 0.1987 accuracy : 0.9238\n",
            "060 loss : 0.1939 accuracy : 0.9219\n",
            "061 loss : 0.1951 accuracy : 0.918\n",
            "062 loss : 0.1918 accuracy : 0.9238\n",
            "063 loss : 0.1763 accuracy : 0.9277\n",
            "064 loss : 0.1992 accuracy : 0.918\n",
            "065 loss : 0.1888 accuracy : 0.9355\n",
            "066 loss : 0.19 accuracy : 0.918\n",
            "067 loss : 0.1951 accuracy : 0.9336\n",
            "068 loss : 0.1925 accuracy : 0.9258\n",
            "069 loss : 0.1899 accuracy : 0.9219\n",
            "070 loss : 0.1854 accuracy : 0.9297\n",
            "071 loss : 0.1877 accuracy : 0.9277\n",
            "072 loss : 0.1934 accuracy : 0.9141\n",
            "073 loss : 0.1945 accuracy : 0.9121\n",
            "074 loss : 0.1883 accuracy : 0.9316\n",
            "075 loss : 0.1885 accuracy : 0.9238\n",
            "076 loss : 0.192 accuracy : 0.9238\n",
            "077 loss : 0.1967 accuracy : 0.9238\n",
            "078 loss : 0.1745 accuracy : 0.9453\n",
            "079 loss : 0.1915 accuracy : 0.9199\n",
            "080 loss : 0.1938 accuracy : 0.9238\n",
            "081 loss : 0.1897 accuracy : 0.9219\n",
            "082 loss : 0.1883 accuracy : 0.9297\n",
            "083 loss : 0.1874 accuracy : 0.9258\n",
            "084 loss : 0.1987 accuracy : 0.9219\n",
            "085 loss : 0.1751 accuracy : 0.9297\n",
            "086 loss : 0.1865 accuracy : 0.9277\n",
            "087 loss : 0.1954 accuracy : 0.9258\n",
            "088 loss : 0.1871 accuracy : 0.9258\n",
            "089 loss : 0.1751 accuracy : 0.9316\n",
            "090 loss : 0.1858 accuracy : 0.9258\n",
            "091 loss : 0.1839 accuracy : 0.9219\n",
            "092 loss : 0.1967 accuracy : 0.9199\n",
            "093 loss : 0.1806 accuracy : 0.9297\n",
            "094 loss : 0.1944 accuracy : 0.9277\n",
            "095 loss : 0.1864 accuracy : 0.9336\n",
            "096 loss : 0.1901 accuracy : 0.9219\n",
            "097 loss : 0.1944 accuracy : 0.9199\n",
            "098 loss : 0.1861 accuracy : 0.9297\n",
            "099 loss : 0.187 accuracy : 0.9297\n",
            "100 loss : 0.1921 accuracy : 0.916\n",
            "101 loss : 0.187 accuracy : 0.9316\n",
            "102 loss : 0.192 accuracy : 0.9199\n",
            "103 loss : 0.1881 accuracy : 0.9238\n",
            "104 loss : 0.2092 accuracy : 0.916\n",
            "105 loss : 0.1845 accuracy : 0.9238\n",
            "106 loss : 0.1808 accuracy : 0.916\n",
            "107 loss : 0.1901 accuracy : 0.9258\n",
            "108 loss : 0.1896 accuracy : 0.9199\n",
            "109 loss : 0.1857 accuracy : 0.9141\n",
            "110 loss : 0.187 accuracy : 0.9297\n",
            "111 loss : 0.192 accuracy : 0.9238\n",
            "112 loss : 0.1829 accuracy : 0.9277\n",
            "113 loss : 0.1898 accuracy : 0.9336\n",
            "114 loss : 0.1822 accuracy : 0.9316\n",
            "115 loss : 0.1994 accuracy : 0.9297\n",
            "116 loss : 0.1857 accuracy : 0.9238\n",
            "117 loss : 0.1992 accuracy : 0.9336\n",
            "118 loss : 0.1837 accuracy : 0.9297\n",
            "119 loss : 0.1863 accuracy : 0.9297\n",
            "120 loss : 0.1798 accuracy : 0.9297\n",
            "121 loss : 0.1913 accuracy : 0.9199\n",
            "122 loss : 0.1804 accuracy : 0.9297\n",
            "123 loss : 0.1845 accuracy : 0.9199\n",
            "124 loss : 0.1793 accuracy : 0.9258\n",
            "125 loss : 0.19 accuracy : 0.9238\n",
            "126 loss : 0.1869 accuracy : 0.9238\n",
            "127 loss : 0.1832 accuracy : 0.9238\n",
            "128 loss : 0.1797 accuracy : 0.9277\n",
            "129 loss : 0.1821 accuracy : 0.9258\n",
            "130 loss : 0.1851 accuracy : 0.9219\n",
            "131 loss : 0.1889 accuracy : 0.9238\n",
            "132 loss : 0.1887 accuracy : 0.9219\n",
            "133 loss : 0.1899 accuracy : 0.9277\n",
            "134 loss : 0.1956 accuracy : 0.9277\n",
            "135 loss : 0.1785 accuracy : 0.9316\n",
            "136 loss : 0.1871 accuracy : 0.9277\n",
            "137 loss : 0.1778 accuracy : 0.9297\n",
            "138 loss : 0.1842 accuracy : 0.9258\n",
            "139 loss : 0.1887 accuracy : 0.918\n",
            "140 loss : 0.1807 accuracy : 0.9219\n",
            "141 loss : 0.1917 accuracy : 0.9277\n",
            "142 loss : 0.1866 accuracy : 0.918\n",
            "143 loss : 0.1774 accuracy : 0.9277\n",
            "144 loss : 0.1803 accuracy : 0.9238\n",
            "145 loss : 0.1842 accuracy : 0.9121\n",
            "146 loss : 0.1789 accuracy : 0.9258\n",
            "147 loss : 0.1896 accuracy : 0.9238\n",
            "148 loss : 0.1834 accuracy : 0.9316\n",
            "149 loss : 0.181 accuracy : 0.9258\n",
            "150 loss : 0.1811 accuracy : 0.9258\n",
            "151 loss : 0.1773 accuracy : 0.9258\n",
            "152 loss : 0.1845 accuracy : 0.9297\n",
            "153 loss : 0.1927 accuracy : 0.9219\n",
            "154 loss : 0.1756 accuracy : 0.9336\n",
            "155 loss : 0.1761 accuracy : 0.9316\n",
            "156 loss : 0.1817 accuracy : 0.9199\n",
            "157 loss : 0.1816 accuracy : 0.9336\n",
            "158 loss : 0.1785 accuracy : 0.9316\n",
            "159 loss : 0.1881 accuracy : 0.9277\n",
            "160 loss : 0.1835 accuracy : 0.9277\n",
            "161 loss : 0.1824 accuracy : 0.9258\n",
            "162 loss : 0.1721 accuracy : 0.9316\n",
            "163 loss : 0.1819 accuracy : 0.918\n",
            "164 loss : 0.1836 accuracy : 0.9336\n",
            "165 loss : 0.1813 accuracy : 0.9375\n",
            "166 loss : 0.1719 accuracy : 0.9355\n",
            "167 loss : 0.1851 accuracy : 0.9297\n",
            "168 loss : 0.1787 accuracy : 0.9219\n",
            "169 loss : 0.1741 accuracy : 0.9277\n",
            "170 loss : 0.1729 accuracy : 0.9316\n",
            "171 loss : 0.1854 accuracy : 0.9238\n",
            "172 loss : 0.1818 accuracy : 0.9316\n",
            "173 loss : 0.1902 accuracy : 0.9219\n",
            "174 loss : 0.1824 accuracy : 0.9375\n",
            "175 loss : 0.1856 accuracy : 0.9316\n",
            "176 loss : 0.1763 accuracy : 0.9316\n",
            "177 loss : 0.1862 accuracy : 0.9219\n",
            "178 loss : 0.1858 accuracy : 0.9277\n",
            "179 loss : 0.1713 accuracy : 0.9258\n",
            "180 loss : 0.18 accuracy : 0.918\n",
            "181 loss : 0.1772 accuracy : 0.9277\n",
            "182 loss : 0.178 accuracy : 0.9277\n",
            "183 loss : 0.1813 accuracy : 0.9238\n",
            "184 loss : 0.184 accuracy : 0.9238\n",
            "185 loss : 0.1693 accuracy : 0.9258\n",
            "186 loss : 0.1788 accuracy : 0.9238\n",
            "187 loss : 0.1735 accuracy : 0.9277\n",
            "188 loss : 0.1802 accuracy : 0.9277\n",
            "189 loss : 0.1787 accuracy : 0.9258\n",
            "190 loss : 0.179 accuracy : 0.9277\n",
            "191 loss : 0.1758 accuracy : 0.9238\n",
            "192 loss : 0.1803 accuracy : 0.9219\n",
            "193 loss : 0.1813 accuracy : 0.9297\n",
            "194 loss : 0.1813 accuracy : 0.9336\n",
            "195 loss : 0.1779 accuracy : 0.9277\n",
            "196 loss : 0.1757 accuracy : 0.9219\n",
            "197 loss : 0.1779 accuracy : 0.9277\n",
            "198 loss : 0.1726 accuracy : 0.9336\n",
            "199 loss : 0.1802 accuracy : 0.9316\n",
            "200 loss : 0.1863 accuracy : 0.9336\n"
          ],
          "name": "stdout"
        }
      ]
    },
    {
      "cell_type": "code",
      "metadata": {
        "id": "IJiOlSqxGQnl",
        "colab_type": "code",
        "outputId": "22ba79a6-66b2-4a0c-8e45-5a41dde27fbb",
        "colab": {
          "base_uri": "https://localhost:8080/",
          "height": 171
        }
      },
      "source": [
        "# Plot result\n",
        "\n",
        "import matplotlib.pyplot as plt\n",
        "\n",
        "plt.figure(figsize=(20,5))\n",
        "plt.subplots_adjust(wspace=0.2)\n",
        "\n",
        "plt.subplot(3,2,1)\n",
        "plt.title(\"$loss$\",fontsize = 18)\n",
        "plt.plot(losses)\n",
        "plt.grid()\n",
        "plt.xlabel(\"$epochs$\", fontsize = 16)\n",
        "plt.xticks(fontsize = 14)\n",
        "plt.yticks(fontsize = 14)\n",
        "\n",
        "\n",
        "plt.subplot(3,2,3)\n",
        "plt.title(\"$loss$\",fontsize = 18)\n",
        "plt.plot(losses2,'r')\n",
        "\n",
        "plt.grid()\n",
        "plt.xlabel(\"$epochs$\", fontsize = 16)\n",
        "plt.xticks(fontsize = 14)\n",
        "plt.yticks(fontsize = 14)\n",
        "\n",
        "\n",
        "plt.subplot(3,2,2)\n",
        "plt.title(\"$accuracy$\", fontsize = 18)\n",
        "plt.plot(accuracies)\n",
        "plt.grid()\n",
        "plt.xlabel(\"$epochs$\", fontsize = 16)\n",
        "plt.xticks(fontsize = 14)\n",
        "plt.yticks(fontsize = 14)\n",
        "\n",
        "plt.subplot(3,2,4)\n",
        "plt.title(\"$accuracy$\", fontsize = 18)\n",
        "plt.plot(accuracies2)\n",
        "plt.grid()\n",
        "plt.xlabel(\"$epochs$\", fontsize = 16)\n",
        "plt.xticks(fontsize = 14)\n",
        "plt.yticks(fontsize = 14)\n",
        "\n",
        "plt.tight_layout()\n",
        "plt.show()"
      ],
      "execution_count": 0,
      "outputs": [
        {
          "output_type": "display_data",
          "data": {
            "image/png": "[encoded data removed]",
            "text/plain": [
              "<Figure size 1440x360 with 4 Axes>"
            ]
          },
          "metadata": {
            "tags": [],
            "needs_background": "light"
          }
        }
      ]
    },
    {
      "cell_type": "code",
      "metadata": {
        "id": "VFstYt_tmwlU",
        "colab_type": "code",
        "outputId": "4114e63d-8280-4b30-ad7d-a6cfde8aa814",
        "colab": {
          "base_uri": "https://localhost:8080/",
          "height": 35
        }
      },
      "source": [
        "# Test\n",
        "\n",
        "output = model(x_test)\n",
        "output[output>=0.5] = 1\n",
        "output[output<0.5] = 0\n",
        "\n",
        "accuracy = sum(sum(y_test.data.numpy() == output.data.T.numpy())) /len(y_test)\n",
        "\n",
        "print(\"test_set accuracy :\", round(accuracy,4))"
      ],
      "execution_count": 0,
      "outputs": [
        {
          "output_type": "stream",
          "text": [
            "test_set accuracy : 0.9474\n"
          ],
          "name": "stdout"
        }
      ]
    },
    {
      "cell_type": "code",
      "metadata": {
        "id": "PaYKWxtZ1SJs",
        "colab_type": "code",
        "colab": {}
      },
      "source": [
        ""
      ],
      "execution_count": 0,
      "outputs": []
    }
  ]
}